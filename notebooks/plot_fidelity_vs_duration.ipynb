{
 "cells": [
  {
   "cell_type": "code",
   "execution_count": 43,
   "id": "competitive-burner",
   "metadata": {
    "scrolled": false
   },
   "outputs": [],
   "source": [
    "%matplotlib notebook\n",
    "\n",
    "import sys\n",
    "import pandas as pd\n",
    "import numpy as np\n",
    "from matplotlib import pyplot as plt\n",
    "from matplotlib import colors as mcolors\n",
    "from matplotlib import markers as mkrs\n",
    "from itertools import product"
   ]
  },
  {
   "cell_type": "code",
   "execution_count": 44,
   "id": "after-defense",
   "metadata": {
    "scrolled": false
   },
   "outputs": [],
   "source": [
    "def create_file_name(kind: str, fn: str, fixed_vls: dict, spread: bool):\n",
    "    fn += \"_\" + kind\n",
    "    translation = {'decoherence': \"dec\", \"p_bell_success\": \"lde_success\"}\n",
    "    for k, v in fixed_vls.items():\n",
    "        if k in filename_skip_parameters or v == False:\n",
    "            continue\n",
    "        if k in translation:\n",
    "            k = translation[k]\n",
    "\n",
    "        fn += \"_{}{}\".format(k, v if not type(v) == bool else \"\")\n",
    "\n",
    "    if cutoff_results:\n",
    "        fn += \"_cutoff\"\n",
    "    if spread:\n",
    "        fn += \"_spread\"\n",
    "\n",
    "    return fn"
   ]
  },
  {
   "cell_type": "code",
   "execution_count": 45,
   "id": "settled-millennium",
   "metadata": {
    "scrolled": false
   },
   "outputs": [],
   "source": [
    "def get_marker_index(marker_cols, run_dict):\n",
    "    marker_ind = tuple()\n",
    "    for value in marker_cols:\n",
    "        marker_ind += (run_dict[value],)\n",
    "\n",
    "    return marker_ind"
   ]
  },
  {
   "cell_type": "code",
   "execution_count": 46,
   "id": "official-corps",
   "metadata": {
    "scrolled": false
   },
   "outputs": [],
   "source": [
    "def get_label_name(run_dict):\n",
    "    value_translation = {\"decoherence\": \"dec\", \"fixed_lde_attempts\": \"decoupling\"}\n",
    "    keep_key = ['pg', 'pn', 'pm', 'pm_1']\n",
    "    name = \"\"\n",
    "    for key, value in run_dict.items():\n",
    "        if value:\n",
    "            if key in value_translation:\n",
    "                value = value_translation[key]\n",
    "            name += \"{}{}, \".format(key + \"=\" if key in keep_key else \"\", str(value).replace(\"_swap\", \"\"))\n",
    "\n",
    "    name = name.strip(\", \")\n",
    "\n",
    "    return name"
   ]
  },
  {
   "cell_type": "code",
   "execution_count": 47,
   "id": "favorite-milton",
   "metadata": {
    "scrolled": false
   },
   "outputs": [],
   "source": [
    "def keep_rows_to_evaluate(df):\n",
    "    if cutoff_results:\n",
    "        df = df[df['cut_off_time'] != np.inf]\n",
    "    else:\n",
    "        df = df[df['cut_off_time'] == np.inf]\n",
    "\n",
    "    for key, values in evaluate_values.items():\n",
    "        if values:\n",
    "            df = df[df[key].isin(values)]\n",
    "            \n",
    "    if df.empty:\n",
    "        print(\"\\n[ERROR] No data to show for this set of parameters!\", file=sys.stderr)\n",
    "        raise\n",
    "\n",
    "    return df"
   ]
  },
  {
   "cell_type": "code",
   "execution_count": 48,
   "id": "destroyed-saturn",
   "metadata": {
    "scrolled": false
   },
   "outputs": [],
   "source": [
    "def identify_indices(df: pd.DataFrame):\n",
    "    no_index_idicators = ['99', 'ghz', 'avg', 'sem', 'spread', 'IIII', 'written', 'cut', 'pulse']\n",
    "    index_columns = {}\n",
    "    fixed_values = {}\n",
    "    for column in df:\n",
    "        if all([indicator not in column for indicator in no_index_idicators]):\n",
    "            unique_values = sorted(set(df[column]))\n",
    "            if len(unique_values) > 1 or column in ['decoherence', 'protocol_name', 'node']:\n",
    "                index_columns[column] = unique_values\n",
    "            elif len(unique_values) == 1:\n",
    "                fixed_values[column] = unique_values[0]\n",
    "\n",
    "    return index_columns, fixed_values"
   ]
  },
  {
   "cell_type": "code",
   "execution_count": 49,
   "id": "temporal-matter",
   "metadata": {
    "scrolled": false
   },
   "outputs": [],
   "source": [
    "def plot_style(title=None, xlabel=None, ylabel=None, **kwargs):\n",
    "    fig, ax = plt.subplots(figsize=(10, 8))\n",
    "    plt.xticks(fontsize=14)\n",
    "    plt.yticks(fontsize=14)\n",
    "    plt.subplots_adjust(left=0.08, bottom=0.08, right=.95, top=.95)\n",
    "    ax.grid(color='w', linestyle='-', linewidth=2)\n",
    "    ax.set_title(title, fontsize=18)\n",
    "    ax.set_xlabel(xlabel, fontsize=14)\n",
    "    ax.set_ylabel(ylabel, fontsize=14)\n",
    "    for key, arg in kwargs.items():\n",
    "        func = getattr(ax, f\"set_{key}\")\n",
    "        func(arg)\n",
    "    ax.patch.set_facecolor('0.95')\n",
    "    ax.spines[\"top\"].set_visible(False)\n",
    "    ax.spines[\"right\"].set_visible(False)\n",
    "    ax.spines[\"bottom\"].set_visible(False)\n",
    "    ax.spines[\"left\"].set_visible(False)\n",
    "\n",
    "    return fig, ax"
   ]
  },
  {
   "cell_type": "code",
   "execution_count": 50,
   "id": "transparent-barcelona",
   "metadata": {
    "scrolled": false
   },
   "outputs": [],
   "source": [
    "def scatter_plot(y_value, title, xlabel, ylabel, df: pd.DataFrame, marker_cols, index_dict, spread=False,\n",
    "                 no_dec_small=True):\n",
    "    colors = {}\n",
    "    [colors.update({name: color}) for name, color in zip(index_dict['protocol_name'], mcolors.TABLEAU_COLORS)]\n",
    "    points = list(mkrs.MarkerStyle.filled_markers)\n",
    "    fig, ax = plot_style(title, xlabel, ylabel)\n",
    "    i = 0\n",
    "    protocol_markers = {}\n",
    "    for index_tuple in product(*index_dict.values()):\n",
    "        iteration_dict = dict(zip(index_dict.keys(), index_tuple))\n",
    "        index = tuple(iteration_dict.values())\n",
    "\n",
    "        if index in df.index:\n",
    "            protocol = iteration_dict['protocol_name']\n",
    "            node = iteration_dict['node']\n",
    "            dec = iteration_dict['decoherence']\n",
    "            marker_index = get_marker_index(marker_cols, iteration_dict)\n",
    "            if marker_index not in protocol_markers:\n",
    "                protocol_markers[marker_index] = i\n",
    "                i += 1\n",
    "            color = colors[protocol]\n",
    "            dataframe_new = df.loc[index, :]\n",
    "            style = 'none' if node == 'Purified' else 'full'\n",
    "            error = {'ghz_fidelity': 'ghz', \"IIII\": \"stab\"}\n",
    "            y_err = [[dataframe_new[error[y_value] + '_lspread']], [dataframe_new[error[y_value] + '_rspread']]]\n",
    "            x_err = [[dataframe_new['dur_lspread']], [dataframe_new['dur_rspread']]]\n",
    "            ax.errorbar(dataframe_new['avg_duration'],\n",
    "                        dataframe_new[y_value],\n",
    "                        yerr=None if not spread or not dec else y_err,\n",
    "                        xerr=None if not spread or not dec else x_err,\n",
    "                        marker=points[protocol_markers[marker_index]],\n",
    "                        color=color,\n",
    "                        ms=18 if dec or not no_dec_small else 8,\n",
    "                        capsize=12,\n",
    "                        label=get_label_name(iteration_dict),\n",
    "                        fillstyle=style,\n",
    "                        linestyle='')\n",
    "\n",
    "    return fig, ax"
   ]
  },
  {
   "cell_type": "code",
   "execution_count": 51,
   "id": "premium-variable",
   "metadata": {
    "scrolled": false
   },
   "outputs": [],
   "source": [
    "def main(spread, save, file_name, file_path, no_dec_small):\n",
    "    dataframe = pd.read_csv(file_name, sep=';', float_precision='round_trip')\n",
    "    dataframe = keep_rows_to_evaluate(dataframe)\n",
    "    index_dict, fixed_values = identify_indices(dataframe)\n",
    "    marker_index_cols = set(index_dict).difference(['node', 'protocol_name'])\n",
    "    dataframe = dataframe.set_index(list(index_dict.keys()))\n",
    "\n",
    "    fig, ax = scatter_plot(\"ghz_fidelity\", \"GHZ fidelity vs. duration\", \"Duration (s)\",\n",
    "                           \"Fidelity\", dataframe, marker_index_cols, index_dict, spread=spread,\n",
    "                           no_dec_small=no_dec_small)\n",
    "    fig2, ax2 = scatter_plot(\"IIII\", \"Stabilizer fidelity vs. duration\", \"Duration (s)\", \"Fidelity\",\n",
    "                             dataframe, marker_index_cols, index_dict, spread=spread, no_dec_small=no_dec_small)\n",
    "\n",
    "    ax2.legend(prop={'size': 10})\n",
    "    ax.legend(prop={'size': 10})\n",
    "    plt.show()\n",
    "\n",
    "    if save:\n",
    "        file_path_stab = create_file_name('stab', file_path, fixed_values, spread)\n",
    "        file_path_ghz = create_file_name('ghz', file_path, fixed_values, spread)\n",
    "        fig.savefig(file_path_ghz + \".pdf\", transparent=False, format=\"pdf\", bbox_inches=\"tight\")\n",
    "        fig2.savefig(file_path_stab + \".pdf\", transparent=False, format=\"pdf\", bbox_inches=\"tight\")"
   ]
  },
  {
   "cell_type": "code",
   "execution_count": 52,
   "id": "romantic-sitting",
   "metadata": {
    "scrolled": false
   },
   "outputs": [
    {
     "name": "stderr",
     "output_type": "stream",
     "text": [
      "\n",
      "[ERROR] No data to show for this set of parameters!\n"
     ]
    },
    {
     "ename": "RuntimeError",
     "evalue": "No active exception to reraise",
     "output_type": "error",
     "traceback": [
      "\u001b[0;31m---------------------------------------------------------------------------\u001b[0m",
      "\u001b[0;31mRuntimeError\u001b[0m                              Traceback (most recent call last)",
      "\u001b[0;32m<ipython-input-52-8d7aa0ee9807>\u001b[0m in \u001b[0;36m<module>\u001b[0;34m\u001b[0m\n\u001b[1;32m     23\u001b[0m                    }\n\u001b[1;32m     24\u001b[0m \u001b[0;34m\u001b[0m\u001b[0m\n\u001b[0;32m---> 25\u001b[0;31m \u001b[0mmain\u001b[0m\u001b[0;34m(\u001b[0m\u001b[0mspread\u001b[0m\u001b[0;34m,\u001b[0m \u001b[0msave\u001b[0m\u001b[0;34m,\u001b[0m \u001b[0mfile_name\u001b[0m\u001b[0;34m,\u001b[0m \u001b[0mfile_path\u001b[0m\u001b[0;34m,\u001b[0m \u001b[0mno_dec_small\u001b[0m\u001b[0;34m)\u001b[0m\u001b[0;34m\u001b[0m\u001b[0;34m\u001b[0m\u001b[0m\n\u001b[0m",
      "\u001b[0;32m<ipython-input-51-d89b4fc0dd45>\u001b[0m in \u001b[0;36mmain\u001b[0;34m(spread, save, file_name, file_path, no_dec_small)\u001b[0m\n\u001b[1;32m      1\u001b[0m \u001b[0;32mdef\u001b[0m \u001b[0mmain\u001b[0m\u001b[0;34m(\u001b[0m\u001b[0mspread\u001b[0m\u001b[0;34m,\u001b[0m \u001b[0msave\u001b[0m\u001b[0;34m,\u001b[0m \u001b[0mfile_name\u001b[0m\u001b[0;34m,\u001b[0m \u001b[0mfile_path\u001b[0m\u001b[0;34m,\u001b[0m \u001b[0mno_dec_small\u001b[0m\u001b[0;34m)\u001b[0m\u001b[0;34m:\u001b[0m\u001b[0;34m\u001b[0m\u001b[0;34m\u001b[0m\u001b[0m\n\u001b[1;32m      2\u001b[0m     \u001b[0mdataframe\u001b[0m \u001b[0;34m=\u001b[0m \u001b[0mpd\u001b[0m\u001b[0;34m.\u001b[0m\u001b[0mread_csv\u001b[0m\u001b[0;34m(\u001b[0m\u001b[0mfile_name\u001b[0m\u001b[0;34m,\u001b[0m \u001b[0msep\u001b[0m\u001b[0;34m=\u001b[0m\u001b[0;34m';'\u001b[0m\u001b[0;34m,\u001b[0m \u001b[0mfloat_precision\u001b[0m\u001b[0;34m=\u001b[0m\u001b[0;34m'round_trip'\u001b[0m\u001b[0;34m)\u001b[0m\u001b[0;34m\u001b[0m\u001b[0;34m\u001b[0m\u001b[0m\n\u001b[0;32m----> 3\u001b[0;31m     \u001b[0mdataframe\u001b[0m \u001b[0;34m=\u001b[0m \u001b[0mkeep_rows_to_evaluate\u001b[0m\u001b[0;34m(\u001b[0m\u001b[0mdataframe\u001b[0m\u001b[0;34m)\u001b[0m\u001b[0;34m\u001b[0m\u001b[0;34m\u001b[0m\u001b[0m\n\u001b[0m\u001b[1;32m      4\u001b[0m     \u001b[0mindex_dict\u001b[0m\u001b[0;34m,\u001b[0m \u001b[0mfixed_values\u001b[0m \u001b[0;34m=\u001b[0m \u001b[0midentify_indices\u001b[0m\u001b[0;34m(\u001b[0m\u001b[0mdataframe\u001b[0m\u001b[0;34m)\u001b[0m\u001b[0;34m\u001b[0m\u001b[0;34m\u001b[0m\u001b[0m\n\u001b[1;32m      5\u001b[0m     \u001b[0mmarker_index_cols\u001b[0m \u001b[0;34m=\u001b[0m \u001b[0mset\u001b[0m\u001b[0;34m(\u001b[0m\u001b[0mindex_dict\u001b[0m\u001b[0;34m)\u001b[0m\u001b[0;34m.\u001b[0m\u001b[0mdifference\u001b[0m\u001b[0;34m(\u001b[0m\u001b[0;34m[\u001b[0m\u001b[0;34m'node'\u001b[0m\u001b[0;34m,\u001b[0m \u001b[0;34m'protocol_name'\u001b[0m\u001b[0;34m]\u001b[0m\u001b[0;34m)\u001b[0m\u001b[0;34m\u001b[0m\u001b[0;34m\u001b[0m\u001b[0m\n",
      "\u001b[0;32m<ipython-input-47-bf899db49280>\u001b[0m in \u001b[0;36mkeep_rows_to_evaluate\u001b[0;34m(df)\u001b[0m\n\u001b[1;32m     11\u001b[0m     \u001b[0;32mif\u001b[0m \u001b[0mdf\u001b[0m\u001b[0;34m.\u001b[0m\u001b[0mempty\u001b[0m\u001b[0;34m:\u001b[0m\u001b[0;34m\u001b[0m\u001b[0;34m\u001b[0m\u001b[0m\n\u001b[1;32m     12\u001b[0m         \u001b[0mprint\u001b[0m\u001b[0;34m(\u001b[0m\u001b[0;34m\"\\n[ERROR] No data to show for this set of parameters!\"\u001b[0m\u001b[0;34m,\u001b[0m \u001b[0mfile\u001b[0m\u001b[0;34m=\u001b[0m\u001b[0msys\u001b[0m\u001b[0;34m.\u001b[0m\u001b[0mstderr\u001b[0m\u001b[0;34m)\u001b[0m\u001b[0;34m\u001b[0m\u001b[0;34m\u001b[0m\u001b[0m\n\u001b[0;32m---> 13\u001b[0;31m         \u001b[0;32mraise\u001b[0m\u001b[0;34m\u001b[0m\u001b[0;34m\u001b[0m\u001b[0m\n\u001b[0m\u001b[1;32m     14\u001b[0m \u001b[0;34m\u001b[0m\u001b[0m\n\u001b[1;32m     15\u001b[0m     \u001b[0;32mreturn\u001b[0m \u001b[0mdf\u001b[0m\u001b[0;34m\u001b[0m\u001b[0;34m\u001b[0m\u001b[0m\n",
      "\u001b[0;31mRuntimeError\u001b[0m: No active exception to reraise"
     ]
    }
   ],
   "source": [
    "# General booleans\n",
    "spread = True           # Shows the 68.2% spread error bars\n",
    "save = False            # Saves the figures to the given filepath\n",
    "no_dec_small = True     # Plots the data points without decoherence smaller\n",
    "cutoff_results = False  # Show the results for the 99% cutoff time\n",
    "\n",
    "# Input and output file parameters\n",
    "file_name = 'circuit_data_NV.csv'\n",
    "filename_skip_parameters = ['basis_transformation_noise', 'network_noise_type', 'probabilistic',\n",
    "                            'no_single_qubit_error']\n",
    "file_path = 'plot_data'\n",
    "\n",
    "# Filter on the data of the input file\n",
    "cutoff_results = False\n",
    "evaluate_values = {'decoherence':           [True],\n",
    "                   'fixed_lde_attempts':    [2000],\n",
    "                   'node':                  [],\n",
    "                   'p_bell_success':        [0.01, 0.001],\n",
    "                   'pg':                    [0.01, 0.001, 0.0001],\n",
    "                   'pm':                    [],\n",
    "                   'pm_1':                  [],\n",
    "                   'protocol_name':         ['iets'],\n",
    "                   }\n",
    "\n",
    "main(spread, save, file_name, file_path, no_dec_small)"
   ]
  },
  {
   "cell_type": "code",
   "execution_count": null,
   "id": "virtual-alfred",
   "metadata": {
    "scrolled": false
   },
   "outputs": [],
   "source": []
  }
 ],
 "metadata": {
  "kernelspec": {
   "display_name": "Python 3",
   "language": "python",
   "name": "python3"
  },
  "language_info": {
   "codemirror_mode": {
    "name": "ipython",
    "version": 3
   },
   "file_extension": ".py",
   "mimetype": "text/x-python",
   "name": "python",
   "nbconvert_exporter": "python",
   "pygments_lexer": "ipython3",
   "version": "3.8.2"
  }
 },
 "nbformat": 4,
 "nbformat_minor": 5
}
